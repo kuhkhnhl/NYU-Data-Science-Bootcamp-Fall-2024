{
  "nbformat": 4,
  "nbformat_minor": 0,
  "metadata": {
    "colab": {
      "provenance": []
    },
    "kernelspec": {
      "name": "python3",
      "display_name": "Python 3"
    },
    "language_info": {
      "name": "python"
    }
  },
  "cells": [
    {
      "cell_type": "markdown",
      "source": [
        "##1. Write a function count_vowels(word) that takes a word as an argument and returns the number of vowels in the word"
      ],
      "metadata": {
        "id": "Etq80vbX6_mH"
      }
    },
    {
      "cell_type": "code",
      "execution_count": 33,
      "metadata": {
        "colab": {
          "base_uri": "https://localhost:8080/"
        },
        "id": "Oe4F3DXgXeoY",
        "outputId": "0601c11e-f129-4c0b-a25a-25ed0d6c6998"
      },
      "outputs": [
        {
          "output_type": "stream",
          "name": "stdout",
          "text": [
            "Word: aswetd\n",
            "Number of vowels: 2\n"
          ]
        }
      ],
      "source": [
        "def vowels():\n",
        "    word = input(\"Word: \")\n",
        "    i = 0\n",
        "    for vowel in word:\n",
        "        if vowel in (\"a\" \"e\" \"i\" \"o\" \"u\" \"A\" \"E\" \"I\" \"O\" \"U\"):\n",
        "            i += 1\n",
        "    return i\n",
        "\n",
        "print(\"Number of vowels:\", vowels())"
      ]
    },
    {
      "cell_type": "markdown",
      "source": [
        "##2. Iterate through the following list of animals and print each one in all caps.\n",
        "animals=['tiger', 'elephant', 'monkey', 'zebra', 'panther']"
      ],
      "metadata": {
        "id": "ROWeNmDy7GFl"
      }
    },
    {
      "cell_type": "code",
      "source": [
        "animals=['tiger', 'elephant', 'monkey', 'zebra', 'panther']\n",
        "for i in animals:\n",
        "  print(i.upper())"
      ],
      "metadata": {
        "colab": {
          "base_uri": "https://localhost:8080/"
        },
        "collapsed": true,
        "id": "HFlAUaWG7SqY",
        "outputId": "6881e0f7-d3f6-464f-c5a7-c7cb3f6e29e3"
      },
      "execution_count": 11,
      "outputs": [
        {
          "output_type": "stream",
          "name": "stdout",
          "text": [
            "TIGER\n",
            "ELEPHANT\n",
            "MONKEY\n",
            "ZEBRA\n",
            "PANTHER\n"
          ]
        }
      ]
    },
    {
      "cell_type": "markdown",
      "source": [
        "##3. Write a program that iterates from 1 to 20, printing each number and whether it's odd or even."
      ],
      "metadata": {
        "id": "SAE3Lu0a7sSN"
      }
    },
    {
      "cell_type": "code",
      "source": [
        "for i in range(1, 21):\n",
        "  if i%2 == 1:\n",
        "    print(i, \": The number is odd\")\n",
        "  else:\n",
        "    print(i, \": The number is even\")"
      ],
      "metadata": {
        "colab": {
          "base_uri": "https://localhost:8080/"
        },
        "collapsed": true,
        "id": "yXCKj9qi7r7S",
        "outputId": "302f2142-559d-4428-e9fb-576e3fafd9a6"
      },
      "execution_count": 29,
      "outputs": [
        {
          "output_type": "stream",
          "name": "stdout",
          "text": [
            "1 : The number is odd\n",
            "2 : The number is even\n",
            "3 : The number is odd\n",
            "4 : The number is even\n",
            "5 : The number is odd\n",
            "6 : The number is even\n",
            "7 : The number is odd\n",
            "8 : The number is even\n",
            "9 : The number is odd\n",
            "10 : The number is even\n",
            "11 : The number is odd\n",
            "12 : The number is even\n",
            "13 : The number is odd\n",
            "14 : The number is even\n",
            "15 : The number is odd\n",
            "16 : The number is even\n",
            "17 : The number is odd\n",
            "18 : The number is even\n",
            "19 : The number is odd\n",
            "20 : The number is even\n"
          ]
        }
      ]
    },
    {
      "cell_type": "markdown",
      "source": [
        "##4. Write a function sum_of_integers(a, b) that takes two integers as input from the user and returns their sum."
      ],
      "metadata": {
        "id": "6zsgG3dN7s8_"
      }
    },
    {
      "cell_type": "code",
      "source": [
        "a = input(\"enter a: \")\n",
        "b = input(\"enter b: \")\n",
        "\n",
        "sum = float(a)+float(b)\n",
        "\n",
        "print(\"sum:\", sum)"
      ],
      "metadata": {
        "colab": {
          "base_uri": "https://localhost:8080/"
        },
        "id": "zZk0adDCBq01",
        "outputId": "f1db45a9-5be9-4707-f403-76fc88968a0d"
      },
      "execution_count": 48,
      "outputs": [
        {
          "output_type": "stream",
          "name": "stdout",
          "text": [
            "enter a: 1\n",
            "enter b: 11\n",
            "sum: 12.0\n"
          ]
        }
      ]
    }
  ]
}